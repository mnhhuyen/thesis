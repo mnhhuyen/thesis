{
 "cells": [
  {
   "cell_type": "code",
   "execution_count": 23,
   "metadata": {},
   "outputs": [],
   "source": [
    "import pandas as pd\n",
    "from config.config_param import final_data_path"
   ]
  },
  {
   "cell_type": "code",
   "execution_count": 24,
   "metadata": {},
   "outputs": [
    {
     "data": {
      "text/plain": [
       "Index(['Unnamed: 0', 'subject_id', 'hadm_id', 'stay_id', 'intime', 'outtime',\n",
       "       'starttime', 'vent', 'age_at_admission', 'target', 'gender', 'race',\n",
       "       'bmi', 'gcs', 'gcs_unable', 'mv_duration', 'temperature', 'heart_rate',\n",
       "       'map_dias', 'map_sys', 'respiratory_rate', 'urine_output', 'pao2',\n",
       "       'pco2', 'spo2', 'pao2fio2ratio', 'totalco2', 'aniongap', 'bicarbonate',\n",
       "       'baseexcess', 'ph', 'wbc', 'rbc', 'platelets', 'hemoglobin',\n",
       "       'hematocrit', 'creatinine', 'bun', 'alt', 'ast', 'lactate', 'glucose',\n",
       "       'sodium', 'potassium', 'calcium', 'magnesium', 'chloride', 'ck',\n",
       "       'ck_mb', 'ntprobnp', 'troponin_t', 'inr', 'pt', 'sepsis', 'anemia',\n",
       "       'ami', 'ventricular_arrhythmia', 'diabetes', 'valvular_disease', 'ckd',\n",
       "       'pneumonia', 'copd', 'atrial_fibrillation', 'aki', 'angina_pectoris',\n",
       "       'liver_cirrhosis', 'pleural_effusion', 'omi', 'hypertension',\n",
       "       'hepatitis', 'stroke', 'pe'],\n",
       "      dtype='object')"
      ]
     },
     "execution_count": 24,
     "metadata": {},
     "output_type": "execute_result"
    }
   ],
   "source": [
    "df = pd.read_csv(final_data_path)\n",
    "df.columns"
   ]
  },
  {
   "cell_type": "code",
   "execution_count": 25,
   "metadata": {},
   "outputs": [
    {
     "data": {
      "text/plain": [
       "7869"
      ]
     },
     "execution_count": 25,
     "metadata": {},
     "output_type": "execute_result"
    }
   ],
   "source": [
    "df.shape[0]"
   ]
  },
  {
   "cell_type": "code",
   "execution_count": 26,
   "metadata": {},
   "outputs": [],
   "source": [
    "#threshold: at least 30% features\n",
    "threshold = int(0.3 * df.shape[1])\n",
    "df2 = df.dropna(thresh=df.shape[1] - threshold)"
   ]
  },
  {
   "cell_type": "code",
   "execution_count": 27,
   "metadata": {},
   "outputs": [
    {
     "data": {
      "text/plain": [
       "7845"
      ]
     },
     "execution_count": 27,
     "metadata": {},
     "output_type": "execute_result"
    }
   ],
   "source": [
    "df2.shape[0]"
   ]
  },
  {
   "cell_type": "code",
   "execution_count": 28,
   "metadata": {},
   "outputs": [
    {
     "data": {
      "text/html": [
       "<div>\n",
       "<style scoped>\n",
       "    .dataframe tbody tr th:only-of-type {\n",
       "        vertical-align: middle;\n",
       "    }\n",
       "\n",
       "    .dataframe tbody tr th {\n",
       "        vertical-align: top;\n",
       "    }\n",
       "\n",
       "    .dataframe thead th {\n",
       "        text-align: right;\n",
       "    }\n",
       "</style>\n",
       "<table border=\"1\" class=\"dataframe\">\n",
       "  <thead>\n",
       "    <tr style=\"text-align: right;\">\n",
       "      <th></th>\n",
       "      <th>Unnamed: 0</th>\n",
       "      <th>subject_id</th>\n",
       "      <th>hadm_id</th>\n",
       "      <th>stay_id</th>\n",
       "      <th>intime</th>\n",
       "      <th>outtime</th>\n",
       "      <th>starttime</th>\n",
       "      <th>vent</th>\n",
       "      <th>age_at_admission</th>\n",
       "      <th>target</th>\n",
       "      <th>...</th>\n",
       "      <th>atrial_fibrillation</th>\n",
       "      <th>aki</th>\n",
       "      <th>angina_pectoris</th>\n",
       "      <th>liver_cirrhosis</th>\n",
       "      <th>pleural_effusion</th>\n",
       "      <th>omi</th>\n",
       "      <th>hypertension</th>\n",
       "      <th>hepatitis</th>\n",
       "      <th>stroke</th>\n",
       "      <th>pe</th>\n",
       "    </tr>\n",
       "  </thead>\n",
       "  <tbody>\n",
       "    <tr>\n",
       "      <th>0</th>\n",
       "      <td>0</td>\n",
       "      <td>13180007</td>\n",
       "      <td>27543152</td>\n",
       "      <td>30000213</td>\n",
       "      <td>2162-06-21 05:38:00</td>\n",
       "      <td>2162-06-22 20:52:48</td>\n",
       "      <td>2162-06-21 05:00:00</td>\n",
       "      <td>1</td>\n",
       "      <td>66</td>\n",
       "      <td>0</td>\n",
       "      <td>...</td>\n",
       "      <td>0</td>\n",
       "      <td>1</td>\n",
       "      <td>0</td>\n",
       "      <td>0</td>\n",
       "      <td>0</td>\n",
       "      <td>0</td>\n",
       "      <td>1</td>\n",
       "      <td>0</td>\n",
       "      <td>0</td>\n",
       "      <td>0</td>\n",
       "    </tr>\n",
       "    <tr>\n",
       "      <th>1</th>\n",
       "      <td>2</td>\n",
       "      <td>14311522</td>\n",
       "      <td>24622512</td>\n",
       "      <td>30002548</td>\n",
       "      <td>2111-08-17 13:13:43</td>\n",
       "      <td>2111-08-18 18:50:31</td>\n",
       "      <td>2111-08-17 17:00:00</td>\n",
       "      <td>1</td>\n",
       "      <td>70</td>\n",
       "      <td>0</td>\n",
       "      <td>...</td>\n",
       "      <td>0</td>\n",
       "      <td>0</td>\n",
       "      <td>0</td>\n",
       "      <td>0</td>\n",
       "      <td>0</td>\n",
       "      <td>0</td>\n",
       "      <td>1</td>\n",
       "      <td>0</td>\n",
       "      <td>0</td>\n",
       "      <td>0</td>\n",
       "    </tr>\n",
       "    <tr>\n",
       "      <th>2</th>\n",
       "      <td>3</td>\n",
       "      <td>18730522</td>\n",
       "      <td>21463350</td>\n",
       "      <td>30004391</td>\n",
       "      <td>2153-09-05 13:12:00</td>\n",
       "      <td>2153-09-13 18:21:18</td>\n",
       "      <td>2153-09-05 13:25:00</td>\n",
       "      <td>1</td>\n",
       "      <td>89</td>\n",
       "      <td>0</td>\n",
       "      <td>...</td>\n",
       "      <td>1</td>\n",
       "      <td>1</td>\n",
       "      <td>0</td>\n",
       "      <td>0</td>\n",
       "      <td>0</td>\n",
       "      <td>0</td>\n",
       "      <td>0</td>\n",
       "      <td>0</td>\n",
       "      <td>0</td>\n",
       "      <td>0</td>\n",
       "    </tr>\n",
       "    <tr>\n",
       "      <th>3</th>\n",
       "      <td>4</td>\n",
       "      <td>12509799</td>\n",
       "      <td>25897223</td>\n",
       "      <td>30004530</td>\n",
       "      <td>2165-07-31 09:40:35</td>\n",
       "      <td>2165-08-03 16:29:09</td>\n",
       "      <td>2165-07-31 13:00:00</td>\n",
       "      <td>1</td>\n",
       "      <td>63</td>\n",
       "      <td>0</td>\n",
       "      <td>...</td>\n",
       "      <td>0</td>\n",
       "      <td>0</td>\n",
       "      <td>0</td>\n",
       "      <td>0</td>\n",
       "      <td>0</td>\n",
       "      <td>1</td>\n",
       "      <td>1</td>\n",
       "      <td>0</td>\n",
       "      <td>0</td>\n",
       "      <td>0</td>\n",
       "    </tr>\n",
       "    <tr>\n",
       "      <th>4</th>\n",
       "      <td>5</td>\n",
       "      <td>17244693</td>\n",
       "      <td>20215424</td>\n",
       "      <td>30004811</td>\n",
       "      <td>2139-10-06 10:40:29</td>\n",
       "      <td>2139-10-08 15:56:05</td>\n",
       "      <td>2139-10-06 19:00:00</td>\n",
       "      <td>1</td>\n",
       "      <td>66</td>\n",
       "      <td>0</td>\n",
       "      <td>...</td>\n",
       "      <td>0</td>\n",
       "      <td>0</td>\n",
       "      <td>0</td>\n",
       "      <td>0</td>\n",
       "      <td>0</td>\n",
       "      <td>0</td>\n",
       "      <td>0</td>\n",
       "      <td>1</td>\n",
       "      <td>0</td>\n",
       "      <td>0</td>\n",
       "    </tr>\n",
       "    <tr>\n",
       "      <th>...</th>\n",
       "      <td>...</td>\n",
       "      <td>...</td>\n",
       "      <td>...</td>\n",
       "      <td>...</td>\n",
       "      <td>...</td>\n",
       "      <td>...</td>\n",
       "      <td>...</td>\n",
       "      <td>...</td>\n",
       "      <td>...</td>\n",
       "      <td>...</td>\n",
       "      <td>...</td>\n",
       "      <td>...</td>\n",
       "      <td>...</td>\n",
       "      <td>...</td>\n",
       "      <td>...</td>\n",
       "      <td>...</td>\n",
       "      <td>...</td>\n",
       "      <td>...</td>\n",
       "      <td>...</td>\n",
       "      <td>...</td>\n",
       "      <td>...</td>\n",
       "    </tr>\n",
       "    <tr>\n",
       "      <th>7861</th>\n",
       "      <td>10202</td>\n",
       "      <td>12719159</td>\n",
       "      <td>23682873</td>\n",
       "      <td>39989733</td>\n",
       "      <td>2120-09-06 13:41:46</td>\n",
       "      <td>2120-09-10 15:00:21</td>\n",
       "      <td>2120-09-06 14:35:00</td>\n",
       "      <td>1</td>\n",
       "      <td>80</td>\n",
       "      <td>0</td>\n",
       "      <td>...</td>\n",
       "      <td>0</td>\n",
       "      <td>0</td>\n",
       "      <td>0</td>\n",
       "      <td>0</td>\n",
       "      <td>0</td>\n",
       "      <td>1</td>\n",
       "      <td>1</td>\n",
       "      <td>0</td>\n",
       "      <td>0</td>\n",
       "      <td>0</td>\n",
       "    </tr>\n",
       "    <tr>\n",
       "      <th>7864</th>\n",
       "      <td>10205</td>\n",
       "      <td>12275003</td>\n",
       "      <td>22562812</td>\n",
       "      <td>39992247</td>\n",
       "      <td>2182-08-15 09:37:33</td>\n",
       "      <td>2182-08-16 17:25:44</td>\n",
       "      <td>2182-08-15 12:00:00</td>\n",
       "      <td>1</td>\n",
       "      <td>72</td>\n",
       "      <td>0</td>\n",
       "      <td>...</td>\n",
       "      <td>1</td>\n",
       "      <td>0</td>\n",
       "      <td>0</td>\n",
       "      <td>0</td>\n",
       "      <td>0</td>\n",
       "      <td>0</td>\n",
       "      <td>0</td>\n",
       "      <td>0</td>\n",
       "      <td>0</td>\n",
       "      <td>0</td>\n",
       "    </tr>\n",
       "    <tr>\n",
       "      <th>7865</th>\n",
       "      <td>10206</td>\n",
       "      <td>19774838</td>\n",
       "      <td>28109956</td>\n",
       "      <td>39992578</td>\n",
       "      <td>2187-09-14 17:39:09</td>\n",
       "      <td>2187-09-16 19:17:27</td>\n",
       "      <td>2187-09-14 21:00:00</td>\n",
       "      <td>1</td>\n",
       "      <td>69</td>\n",
       "      <td>1</td>\n",
       "      <td>...</td>\n",
       "      <td>0</td>\n",
       "      <td>0</td>\n",
       "      <td>0</td>\n",
       "      <td>1</td>\n",
       "      <td>0</td>\n",
       "      <td>1</td>\n",
       "      <td>0</td>\n",
       "      <td>0</td>\n",
       "      <td>0</td>\n",
       "      <td>0</td>\n",
       "    </tr>\n",
       "    <tr>\n",
       "      <th>7867</th>\n",
       "      <td>10209</td>\n",
       "      <td>12616907</td>\n",
       "      <td>21185436</td>\n",
       "      <td>39996123</td>\n",
       "      <td>2134-07-22 01:52:00</td>\n",
       "      <td>2134-07-25 15:44:52</td>\n",
       "      <td>2134-07-22 12:05:00</td>\n",
       "      <td>1</td>\n",
       "      <td>91</td>\n",
       "      <td>0</td>\n",
       "      <td>...</td>\n",
       "      <td>1</td>\n",
       "      <td>0</td>\n",
       "      <td>0</td>\n",
       "      <td>0</td>\n",
       "      <td>0</td>\n",
       "      <td>0</td>\n",
       "      <td>0</td>\n",
       "      <td>0</td>\n",
       "      <td>0</td>\n",
       "      <td>0</td>\n",
       "    </tr>\n",
       "    <tr>\n",
       "      <th>7868</th>\n",
       "      <td>10210</td>\n",
       "      <td>19046950</td>\n",
       "      <td>24352151</td>\n",
       "      <td>39998622</td>\n",
       "      <td>2135-02-11 18:13:55</td>\n",
       "      <td>2135-02-20 17:53:16</td>\n",
       "      <td>2135-02-11 18:15:00</td>\n",
       "      <td>1</td>\n",
       "      <td>67</td>\n",
       "      <td>0</td>\n",
       "      <td>...</td>\n",
       "      <td>0</td>\n",
       "      <td>0</td>\n",
       "      <td>0</td>\n",
       "      <td>0</td>\n",
       "      <td>0</td>\n",
       "      <td>0</td>\n",
       "      <td>1</td>\n",
       "      <td>0</td>\n",
       "      <td>0</td>\n",
       "      <td>1</td>\n",
       "    </tr>\n",
       "  </tbody>\n",
       "</table>\n",
       "<p>6534 rows × 72 columns</p>\n",
       "</div>"
      ],
      "text/plain": [
       "      Unnamed: 0  subject_id   hadm_id   stay_id               intime  \\\n",
       "0              0    13180007  27543152  30000213  2162-06-21 05:38:00   \n",
       "1              2    14311522  24622512  30002548  2111-08-17 13:13:43   \n",
       "2              3    18730522  21463350  30004391  2153-09-05 13:12:00   \n",
       "3              4    12509799  25897223  30004530  2165-07-31 09:40:35   \n",
       "4              5    17244693  20215424  30004811  2139-10-06 10:40:29   \n",
       "...          ...         ...       ...       ...                  ...   \n",
       "7861       10202    12719159  23682873  39989733  2120-09-06 13:41:46   \n",
       "7864       10205    12275003  22562812  39992247  2182-08-15 09:37:33   \n",
       "7865       10206    19774838  28109956  39992578  2187-09-14 17:39:09   \n",
       "7867       10209    12616907  21185436  39996123  2134-07-22 01:52:00   \n",
       "7868       10210    19046950  24352151  39998622  2135-02-11 18:13:55   \n",
       "\n",
       "                  outtime            starttime  vent  age_at_admission  \\\n",
       "0     2162-06-22 20:52:48  2162-06-21 05:00:00     1                66   \n",
       "1     2111-08-18 18:50:31  2111-08-17 17:00:00     1                70   \n",
       "2     2153-09-13 18:21:18  2153-09-05 13:25:00     1                89   \n",
       "3     2165-08-03 16:29:09  2165-07-31 13:00:00     1                63   \n",
       "4     2139-10-08 15:56:05  2139-10-06 19:00:00     1                66   \n",
       "...                   ...                  ...   ...               ...   \n",
       "7861  2120-09-10 15:00:21  2120-09-06 14:35:00     1                80   \n",
       "7864  2182-08-16 17:25:44  2182-08-15 12:00:00     1                72   \n",
       "7865  2187-09-16 19:17:27  2187-09-14 21:00:00     1                69   \n",
       "7867  2134-07-25 15:44:52  2134-07-22 12:05:00     1                91   \n",
       "7868  2135-02-20 17:53:16  2135-02-11 18:15:00     1                67   \n",
       "\n",
       "      target  ... atrial_fibrillation aki  angina_pectoris  liver_cirrhosis  \\\n",
       "0          0  ...                   0   1                0                0   \n",
       "1          0  ...                   0   0                0                0   \n",
       "2          0  ...                   1   1                0                0   \n",
       "3          0  ...                   0   0                0                0   \n",
       "4          0  ...                   0   0                0                0   \n",
       "...      ...  ...                 ...  ..              ...              ...   \n",
       "7861       0  ...                   0   0                0                0   \n",
       "7864       0  ...                   1   0                0                0   \n",
       "7865       1  ...                   0   0                0                1   \n",
       "7867       0  ...                   1   0                0                0   \n",
       "7868       0  ...                   0   0                0                0   \n",
       "\n",
       "      pleural_effusion  omi  hypertension  hepatitis  stroke  pe  \n",
       "0                    0    0             1          0       0   0  \n",
       "1                    0    0             1          0       0   0  \n",
       "2                    0    0             0          0       0   0  \n",
       "3                    0    1             1          0       0   0  \n",
       "4                    0    0             0          1       0   0  \n",
       "...                ...  ...           ...        ...     ...  ..  \n",
       "7861                 0    1             1          0       0   0  \n",
       "7864                 0    0             0          0       0   0  \n",
       "7865                 0    1             0          0       0   0  \n",
       "7867                 0    0             0          0       0   0  \n",
       "7868                 0    0             1          0       0   1  \n",
       "\n",
       "[6534 rows x 72 columns]"
      ]
     },
     "execution_count": 28,
     "metadata": {},
     "output_type": "execute_result"
    }
   ],
   "source": [
    "df2.drop_duplicates(subset='subject_id')"
   ]
  },
  {
   "cell_type": "code",
   "execution_count": 29,
   "metadata": {},
   "outputs": [
    {
     "data": {
      "text/plain": [
       "Index(['Unnamed: 0', 'subject_id', 'hadm_id', 'stay_id', 'intime', 'outtime',\n",
       "       'starttime', 'vent', 'age_at_admission', 'target', 'gender', 'race',\n",
       "       'bmi', 'gcs', 'gcs_unable', 'mv_duration', 'temperature', 'heart_rate',\n",
       "       'map_dias', 'map_sys', 'respiratory_rate', 'urine_output', 'pao2',\n",
       "       'pco2', 'spo2', 'pao2fio2ratio', 'totalco2', 'aniongap', 'bicarbonate',\n",
       "       'baseexcess', 'ph', 'wbc', 'rbc', 'platelets', 'hemoglobin',\n",
       "       'hematocrit', 'creatinine', 'bun', 'alt', 'ast', 'lactate', 'glucose',\n",
       "       'sodium', 'potassium', 'calcium', 'magnesium', 'chloride', 'ck',\n",
       "       'ck_mb', 'ntprobnp', 'troponin_t', 'inr', 'pt', 'sepsis', 'anemia',\n",
       "       'ami', 'ventricular_arrhythmia', 'diabetes', 'valvular_disease', 'ckd',\n",
       "       'pneumonia', 'copd', 'atrial_fibrillation', 'aki', 'angina_pectoris',\n",
       "       'liver_cirrhosis', 'pleural_effusion', 'omi', 'hypertension',\n",
       "       'hepatitis', 'stroke', 'pe'],\n",
       "      dtype='object')"
      ]
     },
     "execution_count": 29,
     "metadata": {},
     "output_type": "execute_result"
    }
   ],
   "source": [
    "df2.columns"
   ]
  },
  {
   "cell_type": "code",
   "execution_count": 30,
   "metadata": {},
   "outputs": [],
   "source": [
    "#threshold2: at least 50% \n",
    "threshold = 0.5 * df.shape[0]\n",
    "df3 = df2.dropna(axis=1, thresh=threshold)\n"
   ]
  },
  {
   "cell_type": "code",
   "execution_count": 31,
   "metadata": {},
   "outputs": [
    {
     "data": {
      "text/plain": [
       "Index(['Unnamed: 0', 'subject_id', 'hadm_id', 'stay_id', 'intime', 'outtime',\n",
       "       'starttime', 'vent', 'age_at_admission', 'target', 'gender', 'race',\n",
       "       'bmi', 'gcs', 'gcs_unable', 'mv_duration', 'temperature', 'heart_rate',\n",
       "       'respiratory_rate', 'urine_output', 'pao2', 'pco2', 'spo2',\n",
       "       'pao2fio2ratio', 'totalco2', 'baseexcess', 'ph', 'wbc', 'rbc',\n",
       "       'platelets', 'hemoglobin', 'hematocrit', 'creatinine', 'bun', 'alt',\n",
       "       'ast', 'glucose', 'sodium', 'potassium', 'calcium', 'magnesium',\n",
       "       'chloride', 'inr', 'pt', 'sepsis', 'anemia', 'ami',\n",
       "       'ventricular_arrhythmia', 'diabetes', 'valvular_disease', 'ckd',\n",
       "       'pneumonia', 'copd', 'atrial_fibrillation', 'aki', 'angina_pectoris',\n",
       "       'liver_cirrhosis', 'pleural_effusion', 'omi', 'hypertension',\n",
       "       'hepatitis', 'stroke', 'pe'],\n",
       "      dtype='object')"
      ]
     },
     "execution_count": 31,
     "metadata": {},
     "output_type": "execute_result"
    }
   ],
   "source": [
    "df3.columns"
   ]
  },
  {
   "cell_type": "code",
   "execution_count": 32,
   "metadata": {},
   "outputs": [
    {
     "data": {
      "text/plain": [
       "63"
      ]
     },
     "execution_count": 32,
     "metadata": {},
     "output_type": "execute_result"
    }
   ],
   "source": [
    "df3.shape[1]"
   ]
  },
  {
   "cell_type": "code",
   "execution_count": 33,
   "metadata": {},
   "outputs": [
    {
     "data": {
      "text/plain": [
       "[0.0,\n",
       " 0.0,\n",
       " 0.0,\n",
       " 0.0,\n",
       " 0.0,\n",
       " 0.0,\n",
       " 0.0,\n",
       " 0.0,\n",
       " 0.0,\n",
       " 0.0,\n",
       " 0.0,\n",
       " 0.0,\n",
       " 12.887189292543022,\n",
       " 0.14021669853409816,\n",
       " 0.14021669853409816,\n",
       " 0.0,\n",
       " 11.293817718291905,\n",
       " 0.0,\n",
       " 0.012746972594008922,\n",
       " 3.811344805608668,\n",
       " 8.068833652007648,\n",
       " 8.068833652007648,\n",
       " 5.213511790949649,\n",
       " 5.9528362014021665,\n",
       " 2.179732313575526,\n",
       " 2.179732313575526,\n",
       " 2.179732313575526,\n",
       " 0.07648183556405354,\n",
       " 0.11472275334608031,\n",
       " 0.11472275334608031,\n",
       " 0.08922880815806246,\n",
       " 0.07648183556405354,\n",
       " 0.012746972594008922,\n",
       " 0.012746972594008922,\n",
       " 46.1440407903123,\n",
       " 45.85086042065009,\n",
       " 0.6755895474824729,\n",
       " 0.12746972594008923,\n",
       " 0.22944550669216063,\n",
       " 11.536010197578076,\n",
       " 4.38495857233907,\n",
       " 0.08922880815806246,\n",
       " 3.5309114085404714,\n",
       " 3.5309114085404714,\n",
       " 0.0,\n",
       " 0.0,\n",
       " 0.0,\n",
       " 0.0,\n",
       " 0.0,\n",
       " 0.0,\n",
       " 0.0,\n",
       " 0.0,\n",
       " 0.0,\n",
       " 0.0,\n",
       " 0.0,\n",
       " 0.0,\n",
       " 0.0,\n",
       " 0.0,\n",
       " 0.0,\n",
       " 0.0,\n",
       " 0.0,\n",
       " 0.0,\n",
       " 0.0]"
      ]
     },
     "execution_count": 33,
     "metadata": {},
     "output_type": "execute_result"
    }
   ],
   "source": [
    "missing_percentage = (df3.isna().sum() / len(df3)) * 100\n",
    "\n",
    "missing_percentage.tolist()"
   ]
  },
  {
   "cell_type": "code",
   "execution_count": 38,
   "metadata": {},
   "outputs": [],
   "source": [
    "non_survival = df3[df3['target'] == 1]\n",
    "non_survival.to_csv('non_survival_patients.csv')\n",
    "survival = df3[df3['target'] == 0]\n",
    "survival.to_csv('survival_patients.csv')"
   ]
  },
  {
   "cell_type": "code",
   "execution_count": 40,
   "metadata": {},
   "outputs": [
    {
     "name": "stdout",
     "output_type": "stream",
     "text": [
      "Non survival icustay: 1557\n",
      "Survival icustay: 6288\n"
     ]
    }
   ],
   "source": [
    "print(f\"Non survival icustay: {len(non_survival)}\")\n",
    "print(f\"Survival icustay: {len(survival)}\")"
   ]
  },
  {
   "cell_type": "code",
   "execution_count": 41,
   "metadata": {},
   "outputs": [
    {
     "name": "stdout",
     "output_type": "stream",
     "text": [
      "Non survival patients: 1450\n",
      "Survival patients: 5253\n"
     ]
    }
   ],
   "source": [
    "print(f\"Non survival patients: {len(non_survival.drop_duplicates(subset='subject_id'))}\")\n",
    "print(f\"Survival patients: {len(survival.drop_duplicates(subset='subject_id'))}\")"
   ]
  }
 ],
 "metadata": {
  "kernelspec": {
   "display_name": "sleepyenv",
   "language": "python",
   "name": "python3"
  },
  "language_info": {
   "codemirror_mode": {
    "name": "ipython",
    "version": 3
   },
   "file_extension": ".py",
   "mimetype": "text/x-python",
   "name": "python",
   "nbconvert_exporter": "python",
   "pygments_lexer": "ipython3",
   "version": "3.10.6"
  }
 },
 "nbformat": 4,
 "nbformat_minor": 2
}
